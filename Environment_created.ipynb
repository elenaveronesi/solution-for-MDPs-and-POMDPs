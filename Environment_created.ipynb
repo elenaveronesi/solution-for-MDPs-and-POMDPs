{
 "cells": [
  {
   "cell_type": "markdown",
   "metadata": {},
   "source": [
    "# ENVIRONMENT CREATED"
   ]
  },
  {
   "cell_type": "markdown",
   "metadata": {},
   "source": [
    "### Introduction to MDP\n",
    "Markovian processes are stochastic processes that model situations in which the transition between states is probabilistic and is characterized by the fact that the probability of passing into a subsequent state depends exclusively on the current state.\n",
    "\n",
    "In an MDP problem the agent knows which state it is in, so to find the optimal policy π (s), the agent refers directly to its real state s. The agent just executes the recommended policy for the current state."
   ]
  },
  {
   "attachments": {
    "environment.png": {
     "image/png": "[encoded data removed]"
    }
   },
   "cell_type": "markdown",
   "metadata": {},
   "source": [
    "## CASE STUDY\n",
    "\n",
    "The environment is made up of a 4x3 grid where an agent moves inside. Starting from the initial state, the agent must choose an action in each time step; the iteration with the environment ends when the agent reaches one of the two objective states, marked +1 and -1. In each position the possible actions are Left, Up, Right, Down.\n",
    "\n",
    "The model adopted is of the stochastic type so we have a certain probability, 0.8, that the chosen action has the desired effect and a probability of 0.1 that the agent moves in another cell with respect to the desired direction.\n",
    "\n",
    "![environment.png](attachment:environment.png)"
   ]
  },
  {
   "cell_type": "code",
   "execution_count": 1,
   "metadata": {},
   "outputs": [],
   "source": [
    "import mdptoolbox\n",
    "import numpy as np\n",
    "import scipy.spatial\n",
    "import matplotlib\n",
    "import matplotlib.pyplot as plt\n",
    "import pandas\n",
    "from pandas import *"
   ]
  },
  {
   "cell_type": "markdown",
   "metadata": {},
   "source": [
    "The transitions model P (s ’| s, a) is composed of the probabilities of all the outcomes of the actions for each individual state.\n",
    "\n",
    "The probability that the chosen action has an effect is defined in each cell; the departure state is defined on the rows and the agent's arrival states on the columns after applying the action. There are four matrices defined for the four actions that can be applied and which will then form the P matrix of transactions."
   ]
  },
  {
   "cell_type": "code",
   "execution_count": 2,
   "metadata": {},
   "outputs": [],
   "source": [
    "P_left=np.array([\n",
    "    [0.8, 0.1, 0, 0, 0.1, 0, 0, 0, 0, 0, 0],\n",
    "    [0.8, 0.1, 0.1, 0, 0, 0, 0, 0, 0, 0, 0],\n",
    "    [0, 0.8, 0, 0.1, 0, 0.1, 0, 0, 0, 0, 0],\n",
    "    [0, 0, 0.8, 0.1, 0, 0, 0.1, 0, 0, 0, 0],\n",
    "    [0, 0, 0, 0, 0.9, 0, 0, 0.1, 0, 0, 0],\n",
    "    [0, 0, 0, 0, 0, 0.8, 0.1, 0, 0, 0.1, 0],\n",
    "    [0, 0, 0, 0, 0, 0, 1, 0, 0, 0, 0],\n",
    "    [0, 0, 0, 0, 0, 0, 0, 0.9, 0.1, 0, 0],\n",
    "    [0, 0, 0, 0, 0, 0, 0, 0.8, 0.1, 0.1, 0],\n",
    "    [0, 0, 0, 0, 0, 0, 0, 0, 0.8, 0.1, 0.1],\n",
    "    [0, 0, 0, 0, 0, 0, 0, 0, 0, 0, 1]])\n",
    "\n",
    "P_up=np.array([\n",
    "    [0.1, 0.1, 0, 0, 0.8, 0, 0, 0, 0, 0, 0],\n",
    "    [0.1, 0.8, 0.1, 0, 0, 0, 0, 0, 0, 0, 0],\n",
    "    [0, 0.1, 0, 0.1, 0, 0.8, 0, 0, 0, 0, 0],\n",
    "    [0, 0, 0.1, 0.1, 0, 0, 0.8, 0, 0, 0, 0],\n",
    "    [0, 0, 0, 0, 0.2, 0, 0, 0.8, 0, 0, 0],\n",
    "    [0, 0, 0, 0, 0, 0.1, 0.1, 0, 0, 0.8, 0],\n",
    "    [0, 0, 0, 0, 0, 0, 1, 0, 0, 0, 0],\n",
    "    [0, 0, 0, 0, 0, 0, 0, 0.9, 0.1, 0, 0],\n",
    "    [0, 0, 0, 0, 0, 0, 0, 0.1, 0.8, 0.1, 0],\n",
    "    [0, 0, 0, 0, 0, 0, 0, 0, 0.1, 0.8, 0.1],\n",
    "    [0, 0, 0, 0, 0, 0, 0, 0, 0, 0, 1]])\n",
    "\n",
    "P_right=np.array([\n",
    "    [0.1, 0.8, 0, 0, 0.1, 0, 0, 0, 0, 0, 0],\n",
    "    [0.1, 0.1, 0.8, 0, 0, 0, 0, 0, 0, 0, 0],\n",
    "    [0, 0.1, 0, 0.8, 0, 0.1, 0, 0, 0, 0, 0],\n",
    "    [0, 0, 0.1, 0.8, 0, 0, 0.1, 0, 0, 0, 0],\n",
    "    [0, 0, 0, 0, 0.9, 0, 0, 0.1, 0, 0, 0],\n",
    "    [0, 0, 0, 0, 0, 0.1, 0.8, 0, 0, 0.1, 0],\n",
    "    [0, 0, 0, 0, 0, 0, 1, 0, 0, 0, 0],\n",
    "    [0, 0, 0, 0, 0, 0, 0, 0.2, 0.8, 0, 0],\n",
    "    [0, 0, 0, 0, 0, 0, 0, 0.1, 0.1, 0.8, 0],\n",
    "    [0, 0, 0, 0, 0, 0, 0, 0, 0.1, 0.1, 0.8],\n",
    "    [0, 0, 0, 0, 0, 0, 0, 0, 0, 0, 1]])\n",
    "\n",
    "P_down=np.array([\n",
    "    [0.9, 0.1, 0, 0, 0, 0, 0, 0, 0, 0, 0],\n",
    "    [0.1, 0.8, 0.1, 0, 0, 0, 0, 0, 0, 0, 0],\n",
    "    [0, 0.1, 0.8, 0.1, 0, 0, 0, 0, 0, 0, 0],\n",
    "    [0, 0, 0.1, 0.9, 0, 0, 0, 0, 0, 0, 0],\n",
    "    [0.8, 0, 0, 0, 0.2, 0, 0, 0, 0, 0, 0],\n",
    "    [0, 0, 0.8, 0, 0, 0.1, 0.1, 0, 0, 0, 0],\n",
    "    [0, 0, 0, 0, 0, 0, 1, 0, 0, 0, 0],\n",
    "    [0, 0, 0, 0, 0.8, 0, 0, 0.1, 0.1, 0, 0],\n",
    "    [0, 0, 0, 0, 0, 0, 0, 0.1, 0.8, 0.1, 0],\n",
    "    [0, 0, 0, 0, 0, 0.8, 0, 0, 0.1, 0, 0.1],\n",
    "    [0, 0, 0, 0, 0, 0, 0, 0, 0, 0, 1]])\n",
    "\n",
    "P=np.array([P_left, P_up, P_right, P_down])"
   ]
  },
  {
   "cell_type": "markdown",
   "metadata": {},
   "source": [
    "In this example, a reward of -0.04 has been defined for all states excluding terminal states which, as we know, have a reward of +/- 1."
   ]
  },
  {
   "cell_type": "code",
   "execution_count": 3,
   "metadata": {},
   "outputs": [],
   "source": [
    "R=np.array([[-0.04, -0.04, -0.04, -0.04],\n",
    "            [-0.04, -0.04, -0.04, -0.04],\n",
    "            [-0.04, -0.04, -0.04, -0.04],\n",
    "            [-0.04, -0.04, -0.04, -0.04],\n",
    "            [-0.04, -0.04, -0.04, -0.04],\n",
    "            [-0.04, -0.04, -0.04, -0.04],\n",
    "            [-1, -1, -1, -1],\n",
    "            [-0.04, -0.04, -0.04, -0.04],\n",
    "            [-0.04, -0.04, -0.04, -0.04],\n",
    "            [-0.04, -0.04, -0.04, -0.04],\n",
    "            [+1, +1, +1, +1]])"
   ]
  },
  {
   "cell_type": "markdown",
   "metadata": {},
   "source": [
    "Initialization discount value"
   ]
  },
  {
   "cell_type": "code",
   "execution_count": 4,
   "metadata": {},
   "outputs": [],
   "source": [
    "discount=0.8"
   ]
  },
  {
   "cell_type": "markdown",
   "metadata": {},
   "source": [
    "Support function to print 4x3 grid with optimal action for each state "
   ]
  },
  {
   "cell_type": "code",
   "execution_count": 5,
   "metadata": {},
   "outputs": [],
   "source": [
    "def print_matrix(policy):\n",
    "    \n",
    "    policy = list(policy)\n",
    "    policy1 = list(policy[:5])\n",
    "    policy1.append(None)\n",
    "    policy1 = policy1 + policy[5:]\n",
    "\n",
    "    policy2 = []\n",
    "    policy2 = list(policy2)\n",
    "\n",
    "    policy_1 = list(policy1[8:12])\n",
    "    policy_2 = list(policy1[4:8])\n",
    "    policy_3 = list(policy1[0:4])\n",
    "    policy2 = policy_1 + policy_2 + policy_3\n",
    "\n",
    "    policy3 = []\n",
    "    for i in range(len(policy2)):\n",
    "        if(policy2[i] == 0):\n",
    "            policy3.append('  ←   ')\n",
    "        elif(policy2[i] == 1):\n",
    "            policy3.append('  ↑   ')\n",
    "        elif(policy2[i] == 2):\n",
    "            policy3.append('  →   ')\n",
    "        elif(policy2[i] == 3):\n",
    "            policy3.append('  ↓   ')\n",
    "        else:\n",
    "            policy3.append(' None ')\n",
    "    print(\"--------------------------\")\n",
    "    for i in range(0, 12, 4):\n",
    "        print(\"|\".join(policy3[i:i+4]), sep=\"|\")\n",
    "        print(\"--------------------------\")"
   ]
  },
  {
   "cell_type": "markdown",
   "metadata": {},
   "source": [
    "## VALUE ITERATION"
   ]
  },
  {
   "cell_type": "markdown",
   "metadata": {},
   "source": [
    "It calculates the utility of all states and uses it to choose the optimal action in each state. The utility of one state is the immediate reward for the state plus the expected utility of the next state.\n",
    "\n",
    "In the Value Iteration algorithm the main idea is to iterate to find an optimal action that maximizes the expected utility. Then using the optimal utility we calculate the optimal policy.\n",
    "\n",
    "It iterates until equilibrium is reached (less than an ε)\n"
   ]
  },
  {
   "cell_type": "markdown",
   "metadata": {},
   "source": [
    "-----\n",
    "Function **VALUE-ITERATION(mdp, ε)** returns a utility function\n",
    "\n",
    "Inputs:\n",
    "- mdp, an MDP with states S\n",
    "- actions A(s)\n",
    "- transition model P(s′ | s, a)\n",
    "- rewards R(s)\n",
    "- discount γ\n",
    "- ε the maximum error allowed in the utility of any state\n",
    "\n",
    "Local variables:\n",
    "- U, U′, vectors of utilities for states in S, initially zero\n",
    "- δ, the maximum change in the utility of any state in an iteration\n",
    "```\n",
    "repeat\n",
    "    U ← U′; δ ← 0\n",
    "    for each state s in S do\n",
    "        U′[s] ← R(s) + γ max a ∈ A(s) Σ P(s′ | s, a) U[s′]\n",
    "        if | U′[s] − U[s] | > δ then δ ← | U′[s] − U[s] |\n",
    "until δ < ε(1 − γ)/γ\n",
    "return U\n",
    "```"
   ]
  },
  {
   "cell_type": "code",
   "execution_count": 6,
   "metadata": {},
   "outputs": [],
   "source": [
    "vi = mdptoolbox.mdp.ValueIteration(P, R, discount)\n",
    "vi.run()"
   ]
  },
  {
   "cell_type": "code",
   "execution_count": 7,
   "metadata": {},
   "outputs": [
    {
     "name": "stdout",
     "output_type": "stream",
     "text": [
      "Number of iterations: 30\n",
      "Value function:  [ 1.06  1.03  1.4   0.5   1.47  2.07 -4.99  1.99  2.68  3.66  4.99]\n",
      "Expected return: 1.44\n",
      "Policy: (1, 2, 1, 0, 1, 1, 0, 2, 2, 2, 0)\n",
      "--------------------------\n",
      "  →   |  →   |  →   |  ←   \n",
      "--------------------------\n",
      "  ↑   | None |  ↑   |  ←   \n",
      "--------------------------\n",
      "  ↑   |  →   |  ↑   |  ←   \n",
      "--------------------------\n"
     ]
    }
   ],
   "source": [
    "print(\"Number of iterations:\", vi.iter)\n",
    "\n",
    "print('Value function: ', np.round(vi.V, 2))\n",
    "mean=np.mean(vi.V)\n",
    "print(\"Expected return:\", np.round(mean, 2))\n",
    "\n",
    "print(\"Policy:\", vi.policy)\n",
    "print_matrix(vi.policy)"
   ]
  },
  {
   "cell_type": "markdown",
   "metadata": {},
   "source": [
    "## POLICY ITERATION"
   ]
  },
  {
   "cell_type": "markdown",
   "metadata": {},
   "source": [
    "Calculate the value of a policy and try to \"improve\" it.\n",
    "\n",
    "Policy iteration performs two steps for each iteration of the main outer loop:\n",
    "1. Policy evaluation: given a policy πi, Ui = Uπi is calculated, the usefulness of each state if πi were to be performed\n",
    "2. Policy improvement: a new policy πi + 1 is calculated, choosing the next states based on Ui\n",
    "\n",
    "The algorithm ends when iteration i does not change the policy"
   ]
  },
  {
   "cell_type": "markdown",
   "metadata": {},
   "source": [
    "---\n",
    "Function **POLICY-ITERATION(mdp)** returns a policy\n",
    "\n",
    "Inputs:\n",
    "- mdp, an MDP with states S\n",
    "- actions A(s)\n",
    "- transition model P(s′ | s, a)\n",
    "\n",
    "Local variables:\n",
    "- U, a vector of utilities for states in S, initially zero\n",
    "- π, a policy vector indexed by state, initially random\n",
    "\n",
    "```\n",
    "repeat\n",
    "    U ← POLICY-EVALUATION(π, U, mdp)\n",
    "    unchanged? ← true\n",
    "    for each state s in S do\n",
    "        if maxa ∈ A(s) Σs′ P(s′ | s, a) U[s′] > Σs′ P(s′ | s, π[s]) U[s′] then do\n",
    "        π[s] ← argmaxa ∈ A(s) Σs′ P(s′ | s, a) U[s′]\n",
    "        unchanged? ← false\n",
    "until unchanged?\n",
    "return π\n",
    "```\n",
    "\n",
    "<br></br>\n",
    "Function **POLICY-EVALUATION (π, U, mdp)** returns a utility function\n",
    "\n",
    "Inputs:\n",
    "- mdp, an MDP with states S,\n",
    "- π the policy to be evaluated,\n",
    "- U a vector of utilities for states  \n",
    "\n",
    "Local variables:\n",
    "- δ, θ small threshold\n",
    "\n",
    "```\n",
    "repeat\n",
    "    δ ← 0\n",
    "    for each state s in S do\n",
    "        u ← U(s)\n",
    "        U(S) ← Σs′ P(s′ | s, π[s]) [R(s’) + γ U(s’)]\n",
    "        δ ← max (δ, |u – U(s)| )\n",
    "until  δ < θ\n",
    "return U\n",
    "```"
   ]
  },
  {
   "cell_type": "code",
   "execution_count": 8,
   "metadata": {},
   "outputs": [],
   "source": [
    "pi=mdptoolbox.mdp.PolicyIteration(P, R, discount)\n",
    "pi.run()"
   ]
  },
  {
   "cell_type": "code",
   "execution_count": 9,
   "metadata": {},
   "outputs": [
    {
     "name": "stdout",
     "output_type": "stream",
     "text": [
      "Number of iterations: 4\n",
      "Value function:  [ 1.07  1.03  1.41  0.5   1.47  2.07 -5.    2.    2.68  3.67  5.  ]\n",
      "Expected return: 1.45\n",
      "Policy: (1, 2, 1, 0, 1, 1, 0, 2, 2, 2, 0)\n",
      "--------------------------\n",
      "  →   |  →   |  →   |  ←   \n",
      "--------------------------\n",
      "  ↑   | None |  ↑   |  ←   \n",
      "--------------------------\n",
      "  ↑   |  →   |  ↑   |  ←   \n",
      "--------------------------\n"
     ]
    }
   ],
   "source": [
    "print(\"Number of iterations:\", pi.iter,)\n",
    "\n",
    "print('Value function: ', np.round(pi.V, 2))\n",
    "mean=np.mean(pi.V)\n",
    "print(\"Expected return:\", np.round(mean, 2))\n",
    "\n",
    "print(\"Policy:\", pi.policy)\n",
    "print_matrix(pi.policy)"
   ]
  },
  {
   "cell_type": "markdown",
   "metadata": {},
   "source": [
    "## Q-LEARNING"
   ]
  },
  {
   "cell_type": "markdown",
   "metadata": {},
   "source": [
    "When the q-learning algorithm is run, a q table or matrix is ​​created that follows the form of [state, action] and is initialized to zero. The values ​​are updated and stored after each action. Table q becomes a reference table for the agent to select the best action based on the q value.\n",
    "\n",
    "The agent can perform two actions: exploit or explore. The first is to use table q as a reference and view all possible actions for a given state. The agent then selects the stock based on the maximum value of those shares. This is known as exploitation as we use the information available to us to make a decision.\n",
    "\n",
    "The second way to act is to act randomly, instead of selecting actions based on the maximum future reward we select an action at random. Acting haphazardly is important because it allows the agent to explore and discover new states that might not otherwise be selected during the exploitation process."
   ]
  },
  {
   "cell_type": "markdown",
   "metadata": {},
   "source": [
    "---\n",
    "Function **Q-LEARNING-AGENT(percept)** returns an action\n",
    "\n",
    "Inputs:\n",
    "- percept, a percept indicating the current state s′ and reward signal r′\n",
    "\n",
    "Persistent:\n",
    "- Q, a table of action values indexed by state and action, initially zero\n",
    "- Nsa, a table of frequencies for state–action pairs, initially zero\n",
    "- s, a, r, the previous state, action, and reward, initially null\n",
    "\n",
    "```\n",
    "if TERMINAL?(s) then Q[s,None]←r′\n",
    "if s is not null then\n",
    "    increment Nsa [s, a]\n",
    "    Q[s, a] ← Q[s, a] + α(Nsa [s, a])(r + γ maxa′ Q[s′, a′] − Q[s, a])\n",
    "s, a, r ← s′ , argmaxa′ f(Q[s′, a′], Nsa [s′, a′]), r′\n",
    "return a\n",
    "```"
   ]
  },
  {
   "cell_type": "markdown",
   "metadata": {},
   "source": [
    "In this first case we analyze the q-learning algorithm applied with the minimum number of possible iterations, which is 10000. Then we apply the algorithm again to different values ​​of number of iterations"
   ]
  },
  {
   "cell_type": "code",
   "execution_count": 10,
   "metadata": {},
   "outputs": [],
   "source": [
    "ql=mdptoolbox.mdp.QLearning(P, R, discount)\n",
    "ql.run()"
   ]
  },
  {
   "cell_type": "code",
   "execution_count": 11,
   "metadata": {},
   "outputs": [
    {
     "name": "stdout",
     "output_type": "stream",
     "text": [
      "Value function: [-0.02 -0.01  0.02 -0.02 -0.02  0.33 -4.52  0.05  0.56  2.56  5.  ]\n",
      "Expected return: 0.36\n",
      "Q-matrix: [[-0.02 -0.02 -0.02 -0.02]\n",
      " [-0.01 -0.01 -0.01 -0.01]\n",
      " [-0.01  0.02 -0.01 -0.01]\n",
      " [-0.05 -0.07 -0.09 -0.02]\n",
      " [-0.02 -0.02 -0.02 -0.02]\n",
      " [ 0.    0.33 -0.24 -0.  ]\n",
      " [-4.52 -4.52 -4.52 -4.52]\n",
      " [-0.01 -0.01  0.05 -0.01]\n",
      " [-0.01 -0.01  0.56  0.  ]\n",
      " [ 0.07  0.03  2.56 -0.  ]\n",
      " [ 4.95  5.    4.97  4.96]]\n",
      "Policy: (0, 1, 1, 3, 1, 1, 1, 2, 2, 2, 1)\n",
      "--------------------------\n",
      "  →   |  →   |  →   |  ↑   \n",
      "--------------------------\n",
      "  ↑   | None |  ↑   |  ↑   \n",
      "--------------------------\n",
      "  ←   |  ↑   |  ↑   |  ↓   \n",
      "--------------------------\n"
     ]
    }
   ],
   "source": [
    "print(\"Value function:\", np.round(ql.V, 2))\n",
    "mean=np.mean(ql.V)\n",
    "print(\"Expected return:\", np.round(mean, 2))\n",
    "\n",
    "print(\"Q-matrix:\", np.round(ql.Q,2))\n",
    "\n",
    "print(\"Policy:\", ql.policy)\n",
    "print_matrix(ql.policy)"
   ]
  },
  {
   "cell_type": "markdown",
   "metadata": {},
   "source": [
    "#### Q-learning with 10000, 100000, 1000000 iterations"
   ]
  },
  {
   "cell_type": "code",
   "execution_count": 12,
   "metadata": {},
   "outputs": [
    {
     "name": "stdout",
     "output_type": "stream",
     "text": [
      "Number of iterations: 10000\n",
      "Value function: [-0.02 -0.02 -0.02 -0.08 -0.02  0.21 -4.81  0.03  0.53  2.38  5.  ]\n",
      "Expected return: 0.29\n",
      "Euclidean distance:  4.53\n",
      "\n",
      "Number of iterations: 100000\n",
      "Value function: [-0.01  0.14  0.71 -0.03  0.1   1.73 -4.99  0.81  2.06  3.58  5.  ]\n",
      "Expected return: 0.83\n",
      "Euclidean distance:  2.55\n",
      "\n",
      "Number of iterations: 1000000\n",
      "Value function: [ 0.53  0.66  1.29  0.19  1.3   2.02 -5.    1.97  2.69  3.68  5.  ]\n",
      "Expected return: 1.3\n",
      "Euclidean distance:  0.76\n"
     ]
    }
   ],
   "source": [
    "print('Number of iterations: 10000')\n",
    "ql1=mdptoolbox.mdp.QLearning(P, R, discount, 10000)\n",
    "ql1.run()\n",
    "print(\"Value function:\", np.round(ql1.V, 2))\n",
    "mean=np.mean(ql1.V)\n",
    "print(\"Expected return:\", np.round(mean, 2))\n",
    "\n",
    "dist_ql1=scipy.spatial.distance.euclidean(pi.V, ql1.V)\n",
    "print(\"Euclidean distance: \", round(dist_ql1, 2))\n",
    "\n",
    "\n",
    "print('\\nNumber of iterations: 100000')\n",
    "ql2=mdptoolbox.mdp.QLearning(P, R, discount, 100000)\n",
    "ql2.run()\n",
    "print(\"Value function:\", np.round(ql2.V, 2))\n",
    "mean=np.mean(ql2.V)\n",
    "print(\"Expected return:\", np.round(mean, 2))\n",
    "\n",
    "dist_ql2=scipy.spatial.distance.euclidean(pi.V, ql2.V)\n",
    "print(\"Euclidean distance: \", round(dist_ql2, 2))\n",
    "\n",
    "\n",
    "print('\\nNumber of iterations: 1000000')\n",
    "ql3=mdptoolbox.mdp.QLearning(P, R, discount, 1000000)\n",
    "ql3.run()\n",
    "print(\"Value function:\", np.round(ql3.V, 2))\n",
    "mean=np.mean(ql3.V)\n",
    "print(\"Expected return:\", np.round(mean, 2))\n",
    "\n",
    "dist_ql3=scipy.spatial.distance.euclidean(pi.V, ql3.V)\n",
    "print(\"Euclidean distance: \", round(dist_ql3, 2))"
   ]
  },
  {
   "cell_type": "markdown",
   "metadata": {},
   "source": [
    "In the code section above we have calculated the Euclidean distance between the values of the value function obtained with Policy Iteration and the values of the value function obtained with Q-learning algorithm  and as it shows the graph below, this value decreases with increasing number of iterations"
   ]
  },
  {
   "cell_type": "code",
   "execution_count": 13,
   "metadata": {},
   "outputs": [
    {
     "data": {
      "image/png": "[encoded data removed]",
      "text/plain": [
       "<Figure size 432x288 with 1 Axes>"
      ]
     },
     "metadata": {
      "needs_background": "light"
     },
     "output_type": "display_data"
    }
   ],
   "source": [
    "plt.xlabel('Iterations')\n",
    "plt.ylabel('Euclidean distance')\n",
    "x=['10000', '100000', '1000000']\n",
    "y=[dist_ql1, dist_ql2, dist_ql3]\n",
    "plt.plot(x, y, marker='o')\n",
    "plt.show()"
   ]
  },
  {
   "cell_type": "markdown",
   "metadata": {},
   "source": [
    "#### _References:_\n",
    "_Artificial Intelligent: a modern approach (third edition) - S. Russel, P. Norvig_ <br/>\n",
    "_Markov Decision Process (MDP) Toolbox\n",
    "https://pymdptoolbox.readthedocs.io/en/latest/api/mdptoolbox.html_"
   ]
  }
 ],
 "metadata": {
  "authors": [
   {
    "name": "Elena Veronesi"
   }
  ],
  "kernelspec": {
   "display_name": "Python 3",
   "language": "python",
   "name": "python3"
  },
  "language_info": {
   "codemirror_mode": {
    "name": "ipython",
    "version": 3
   },
   "file_extension": ".py",
   "mimetype": "text/x-python",
   "name": "python",
   "nbconvert_exporter": "python",
   "pygments_lexer": "ipython3",
   "version": "3.7.7"
  }
 },
 "nbformat": 4,
 "nbformat_minor": 4
}
